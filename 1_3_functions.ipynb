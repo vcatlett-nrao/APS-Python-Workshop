{
  "nbformat": 4,
  "nbformat_minor": 0,
  "metadata": {
    "colab": {
      "name": "1_3_functions.ipynb",
      "provenance": [],
      "collapsed_sections": [
        "-WbuWo5Iv_-j",
        "eWlQkAC3wYah"
      ]
    },
    "kernelspec": {
      "name": "python3",
      "display_name": "Python 3"
    },
    "language_info": {
      "name": "python"
    }
  },
  "cells": [
    {
      "cell_type": "markdown",
      "source": [
        "# **APS Python Workshop (Part 1)**\n",
        "# **Section 3: Functions**\n",
        "# Hosted by Victoria Catlett"
      ],
      "metadata": {
        "id": "FoHBQPybhEic"
      }
    },
    {
      "cell_type": "markdown",
      "source": [
        "# **Built-In Functions**"
      ],
      "metadata": {
        "id": "-WbuWo5Iv_-j"
      }
    },
    {
      "cell_type": "markdown",
      "source": [
        "## Math Operators\n",
        "You can do math on floats and integers relatively easily. Addition, subtraction, multiplication, and division are defined by ```+```,```-```,```*```, and ```/```, respectively. "
      ],
      "metadata": {
        "id": "1H3GBuAswE05"
      }
    },
    {
      "cell_type": "markdown",
      "source": [
        "## **Task 1.3.1**\n",
        "* Determine what kind of variable you get when you divide 18 by 3 (both integers)\n",
        "* Print the result"
      ],
      "metadata": {
        "id": "Ui2c0H0MhL-c"
      }
    },
    {
      "cell_type": "code",
      "source": [
        "# YOUR CODE HERE"
      ],
      "metadata": {
        "id": "1EejmbF1hX6a"
      },
      "execution_count": null,
      "outputs": []
    },
    {
      "cell_type": "markdown",
      "source": [
        "## Built-In Functions\n",
        "In addition to ```+```,```-```,```*```, and ```/```, many other common functions are built into Python. Here are a few examples:\n",
        "\n",
        "* ```abs(your_number)``` returns the absolute value of a number\n",
        "\n",
        "* ```sum(your_list)``` returns the sum of the elements in a numerical list\n",
        "\n",
        "* ```min(your_list)``` returns the minimum of a numerical list\n",
        "\n",
        "* ```max(your_list)``` returns the maximum of a numerical list\n",
        "\n",
        "* ```range(int1, int2, int3)``` returns a list from int1 to int2 (not including int2) in steps of int3\n",
        "\n",
        "* ```range(your_integer)``` returns a list from 0 to (your_integer - 1) in steps of 1"
      ],
      "metadata": {
        "id": "Cksu0-30heHt"
      }
    },
    {
      "cell_type": "markdown",
      "source": [
        "## **Task 1.3.2**\n",
        "* Find the sum of the minimum and maximum of ```[1,2,3,4]```\n",
        "* Print the result"
      ],
      "metadata": {
        "id": "tuASFQO0hhDG"
      }
    },
    {
      "cell_type": "code",
      "source": [
        "# YOUR CODE HERE"
      ],
      "metadata": {
        "id": "cqgtak0qh_f9"
      },
      "execution_count": null,
      "outputs": []
    },
    {
      "cell_type": "markdown",
      "source": [
        "## Logical Operators\n",
        "### Boolean Operators\n",
        "**Boolean operators** evaluate an expression to a boolean, that is, they determine if a statement is True or False. \n",
        "The operators \"and,\" \"or,\" and \"not\" are ```and```, ```or```, and ```not``` in Python (that's nice!).\n",
        "\n",
        "Here is an example using boolean operators:\n",
        "\n",
        "```test_boolean = True and False```\n",
        "\n",
        "```test_boolean``` will be False.\n",
        "### Comparison Operators\n",
        "**Comparison operators**, as their name suggests, compare two values. They are as follows:\n",
        "\n",
        "|Operator|English Equivalent|\n",
        "|:--:|:----------:|\n",
        "|<|\"Less than\"|\n",
        "|<=|\"Less than or equal to\"|\n",
        "|>|\"Greater than\"|\n",
        "|>=|\"Greater than or equal to\"|\n",
        "|==|\"Equal to\"|\n",
        "|!=|\"Not equal to\"|\n",
        "\n",
        "Here is an example using comparison operators:\n",
        "\n",
        "```test_comparison = 3 <= 7```\n",
        "\n",
        "```test_comparison``` will be True. "
      ],
      "metadata": {
        "id": "lcq_VMZMiNre"
      }
    },
    {
      "cell_type": "markdown",
      "source": [
        "## **Task 1.3.3**\n",
        "* Determine if the following statement is True or False:\n",
        "```not (20 is less than or equal to 19)```\n",
        "* Print the result"
      ],
      "metadata": {
        "id": "NZ3bnspEiQ0O"
      }
    },
    {
      "cell_type": "code",
      "source": [
        "# YOUR CODE HERE"
      ],
      "metadata": {
        "id": "IeJV7ATHidq7"
      },
      "execution_count": null,
      "outputs": []
    },
    {
      "cell_type": "markdown",
      "source": [
        "# **User-Defined Functions**"
      ],
      "metadata": {
        "id": "eWlQkAC3wYah"
      }
    },
    {
      "cell_type": "code",
      "source": [
        ""
      ],
      "metadata": {
        "id": "M7pcqogZwcs3"
      },
      "execution_count": null,
      "outputs": []
    }
  ]
}