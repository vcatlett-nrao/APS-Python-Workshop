{
  "nbformat": 4,
  "nbformat_minor": 0,
  "metadata": {
    "colab": {
      "name": "1_4_conditionals.ipynb",
      "provenance": [],
      "collapsed_sections": [
        "XjcqzaDYtgb7",
        "4at93WqNtaH6",
        "zd6j_LVRtQ-K"
      ]
    },
    "kernelspec": {
      "name": "python3",
      "display_name": "Python 3"
    },
    "language_info": {
      "name": "python"
    }
  },
  "cells": [
    {
      "cell_type": "markdown",
      "source": [
        "# **APS Python Workshop (Part 1)**\n",
        "# **Section 4: Conditionals**\n",
        "# Hosted by Victoria Catlett"
      ],
      "metadata": {
        "id": "iEndi22-l3CI"
      }
    },
    {
      "cell_type": "markdown",
      "source": [
        "# **If-Else Statements**"
      ],
      "metadata": {
        "id": "XjcqzaDYtgb7"
      }
    },
    {
      "cell_type": "markdown",
      "source": [
        "An **if-else statement** checks if a condition is True or not, then executes a different block of code accordingly. "
      ],
      "metadata": {
        "id": "307t4MsEtlWD"
      }
    },
    {
      "cell_type": "code",
      "source": [
        "my_number = 7\n",
        "\n",
        "if my_number > 5:\n",
        "  print('Your number is greater than 5!')\n",
        "elif my_number >= 0:\n",
        "  print('Your number is between 0 and 5 (inclusive)')\n",
        "else:\n",
        "  print('Your number is negative.')"
      ],
      "metadata": {
        "colab": {
          "base_uri": "https://localhost:8080/"
        },
        "id": "0s-Jd9HKKu-D",
        "outputId": "42504b06-8f30-4cc1-864d-deaa9c5dc8c5"
      },
      "execution_count": 2,
      "outputs": [
        {
          "output_type": "stream",
          "name": "stdout",
          "text": [
            "Your number is greater than 5!\n"
          ]
        }
      ]
    },
    {
      "cell_type": "markdown",
      "source": [
        "## **Task 1.4.1**\n",
        "* Create a variable called ```my_variable```\n",
        "* Construct an If-Else statement that...\n",
        "  * Prints \"This is a float!\" if ```my_variable``` is a ```float```\n",
        "  * Prints \"This is an integer!\" if ```my_variable``` is an ```integer```\n",
        "  * Prints \"Why didn't you give me a number?\" otherwise\n",
        "\n"
      ],
      "metadata": {
        "id": "Fpe1WorxqiHJ"
      }
    },
    {
      "cell_type": "code",
      "source": [
        "# YOUR CODE HERE"
      ],
      "metadata": {
        "id": "qCqnC9Dzl8sK"
      },
      "execution_count": null,
      "outputs": []
    },
    {
      "cell_type": "markdown",
      "source": [
        "# **While Loops**"
      ],
      "metadata": {
        "id": "4at93WqNtaH6"
      }
    },
    {
      "cell_type": "markdown",
      "source": [
        "A **while loop** will evaluate whatever is inside over and over again while a given condition is true. A while loop is constructed like this:\n",
        "\n",
        ">```while condition:```\n",
        "\n",
        ">>```do this thing```\n",
        "\n",
        ">```code that comes after the loop```\n",
        "    \n",
        "Here are two things you should notice:\n",
        "* We have to pay attention to **indentation** now\n",
        "* If your ```condition``` is always ```True```, the loop will run forever!\n",
        "\n",
        "The cell below will show you how to construct a while loop, and the example will add consecutive numbers until the sum is greater than 10."
      ],
      "metadata": {
        "id": "pqNwkYwjlTwK"
      }
    },
    {
      "cell_type": "code",
      "source": [
        "current_number = 0 # Start with 0\n",
        "current_sum = 0 # Start with a sum of 0\n",
        "\n",
        "while current_sum < 10:\n",
        "    print('%i + %i = %i'%(current_sum, current_number, current_sum + current_number))\n",
        "    \n",
        "    current_sum = current_sum + current_number # Add the number to the sum\n",
        "    current_number = current_number + 1 # Increase the number by 1\n",
        "\n",
        "# This next line won't execute until the loop is done\n",
        "print(\"The sum is %i, and the last number is %i\"%(current_sum, current_number))"
      ],
      "metadata": {
        "id": "elq_8wfalUal"
      },
      "execution_count": null,
      "outputs": []
    },
    {
      "cell_type": "markdown",
      "source": [
        "It's possible to make a loop that runs forever, which will eventually crash your computer. That's not ideal. To make sure your while loop stops even if you made a mistake, add another stopping condition based on the number of iterations. Consider the example below. It would run forever without the extra stopping condition because ```7 < 8``` is always ```True```."
      ],
      "metadata": {
        "id": "iDr-aA1rlbGT"
      }
    },
    {
      "cell_type": "code",
      "source": [
        "iteration_max = 1000\n",
        "iteration_count = 0\n",
        "\n",
        "while 7 < 8 and iteration_count < iteration_max:\n",
        "  iteration_count += 1\n",
        "  if iteration_count == iteration_max:\n",
        "    print('WARNING: Maximum number of iterations reached. Loop terminated.')\n"
      ],
      "metadata": {
        "colab": {
          "base_uri": "https://localhost:8080/"
        },
        "id": "X5qyhN82ljAw",
        "outputId": "dc1cec18-47b6-425c-a214-150f6557a995"
      },
      "execution_count": null,
      "outputs": [
        {
          "output_type": "stream",
          "name": "stdout",
          "text": [
            "WARNING: Maximum number of iterations reached. Loop terminated.\n"
          ]
        }
      ]
    },
    {
      "cell_type": "markdown",
      "source": [
        "## **Task 1.4.2**\n",
        "* Define a variable ```n``` that equals some integer\n",
        "* Construct a ```while``` loop that multiplies the numbers 1-n\n",
        "* Print the result"
      ],
      "metadata": {
        "id": "r3skFEqjrztY"
      }
    },
    {
      "cell_type": "code",
      "source": [
        "# YOUR CODE HERE"
      ],
      "metadata": {
        "id": "MFIcRp2-pdQe"
      },
      "execution_count": null,
      "outputs": []
    },
    {
      "cell_type": "markdown",
      "source": [
        "# **For Loops**"
      ],
      "metadata": {
        "id": "zd6j_LVRtQ-K"
      }
    },
    {
      "cell_type": "markdown",
      "source": [
        "A **for loop** will evaluate a certain number of times before stopping. A for loop is constructed like this:\n",
        "\n",
        "> ```for i in your_list:```\n",
        "\n",
        ">> ```what to do for each i in the list```\n",
        "\n",
        "> ```code that comes after the loop is done```\n",
        "    \n",
        "Unlike a while loop, this will not go on forever. It will only evaluate as many times as the length of your_list. The cell below will show you how to construct a for loop that will add the numbers 1 through 10."
      ],
      "metadata": {
        "id": "kGNaHnonsOh6"
      }
    },
    {
      "cell_type": "code",
      "source": [
        "my_sum = 0\n",
        "\n",
        "for i in range(1, 11, 1):\n",
        "    my_sum = my_sum + i\n",
        "    print('%i + %i = %i'%(my_sum, i, my_sum+i))"
      ],
      "metadata": {
        "colab": {
          "base_uri": "https://localhost:8080/"
        },
        "id": "Sl_M2dySs1aG",
        "outputId": "785dc9a2-f7d1-4444-cf81-1dcd031efd0c"
      },
      "execution_count": null,
      "outputs": [
        {
          "output_type": "stream",
          "name": "stdout",
          "text": [
            "1 + 1 = 2\n",
            "3 + 2 = 5\n",
            "6 + 3 = 9\n",
            "10 + 4 = 14\n",
            "15 + 5 = 20\n",
            "21 + 6 = 27\n",
            "28 + 7 = 35\n",
            "36 + 8 = 44\n",
            "45 + 9 = 54\n",
            "55 + 10 = 65\n"
          ]
        }
      ]
    },
    {
      "cell_type": "code",
      "source": [
        ""
      ],
      "metadata": {
        "id": "eEIMM1jOs7oC"
      },
      "execution_count": null,
      "outputs": []
    }
  ]
}